{
 "cells": [
  {
   "cell_type": "code",
   "execution_count": 7,
   "metadata": {},
   "outputs": [
    {
     "name": "stderr",
     "output_type": "stream",
     "text": [
      "/u/battula12/.conda/envs/moving_source/lib/python3.9/site-packages/tqdm/auto.py:22: TqdmWarning: IProgress not found. Please update jupyter and ipywidgets. See https://ipywidgets.readthedocs.io/en/stable/user_install.html\n",
      "  from .autonotebook import tqdm as notebook_tqdm\n"
     ]
    }
   ],
   "source": [
    "import torchaudio"
   ]
  },
  {
   "cell_type": "code",
   "execution_count": 2,
   "metadata": {},
   "outputs": [],
   "source": [
    "import concurrent.futures\n",
    "import os\n",
    "from functools import wraps\n",
    "\n",
    "def make_parallel(func):\n",
    "    \"\"\"\n",
    "        Decorator used to decorate any function which needs to be parallized.\n",
    "        After the input of the function should be a list in which each element is a instance of input fot the normal function.\n",
    "        You can also pass in keyword arguements seperatley.\n",
    "        :param func: function\n",
    "            The instance of the function that needs to be parallelized.\n",
    "        :return: function\n",
    "    \"\"\"\n",
    "\n",
    "    @wraps(func)\n",
    "    def wrapper(lst):\n",
    "        \"\"\"\n",
    "\n",
    "        :param lst:\n",
    "            The inputs of the function in a list.\n",
    "        :return:\n",
    "        \"\"\"\n",
    "        # the number of threads that can be max-spawned.\n",
    "        # If the number of threads are too high, then the overhead of creating the threads will be significant.\n",
    "        # Here we are choosing the number of CPUs available in the system and then multiplying it with a constant.\n",
    "        # In my system, i have a total of 8 CPUs so i will be generating a maximum of 16 threads in my system.\n",
    "        number_of_threads_multiple = 2 # You can change this multiple according to you requirement\n",
    "        number_of_workers = int(os.cpu_count() * number_of_threads_multiple)\n",
    "        if len(lst) < number_of_workers:\n",
    "            # If the length of the list is low, we would only require those many number of threads.\n",
    "            # Here we are avoiding creating unnecessary threads\n",
    "            number_of_workers = len(lst)\n",
    "\n",
    "        if number_of_workers:\n",
    "            if number_of_workers == 1:\n",
    "                # If the length of the list that needs to be parallelized is 1, there is no point in\n",
    "                # parallelizing the function.\n",
    "                # So we run it serially.\n",
    "                result = [func(lst[0])]\n",
    "            else:\n",
    "                # Core Code, where we are creating max number of threads and running the decorated function in parallel.\n",
    "                result = []\n",
    "                with concurrent.futures.ThreadPoolExecutor(max_workers=number_of_workers) as executer:\n",
    "                    bag = {executer.submit(func, i): i for i in lst}\n",
    "                    for future in concurrent.futures.as_completed(bag):\n",
    "                        result.append(future.result())\n",
    "        else:\n",
    "            result = []\n",
    "        return result\n",
    "    return wrapper"
   ]
  },
  {
   "cell_type": "code",
   "execution_count": 4,
   "metadata": {},
   "outputs": [],
   "source": [
    "def get_sig_len(ex):\n",
    "    x, fs = torchaudio.load(ex)\n",
    "    if fs != 16000:\n",
    "        print(ex)\n",
    "    sig_len = x.shape[1] / fs\n",
    "    return sig_len"
   ]
  },
  {
   "cell_type": "code",
   "execution_count": 5,
   "metadata": {},
   "outputs": [],
   "source": [
    "with open('dataset_file.txt', 'r') as f:\n",
    "    tr_ex_list = [line.strip().split(',')[0] for line in f.readlines()]"
   ]
  },
  {
   "cell_type": "code",
   "execution_count": 8,
   "metadata": {},
   "outputs": [],
   "source": [
    "results = make_parallel(get_sig_len)(tr_ex_list)"
   ]
  },
  {
   "cell_type": "code",
   "execution_count": 9,
   "metadata": {},
   "outputs": [
    {
     "data": {
      "text/plain": [
       "28539"
      ]
     },
     "execution_count": 9,
     "metadata": {},
     "output_type": "execute_result"
    }
   ],
   "source": [
    "len(results)"
   ]
  },
  {
   "cell_type": "code",
   "execution_count": 10,
   "metadata": {},
   "outputs": [
    {
     "data": {
      "text/plain": [
       "1.41"
      ]
     },
     "execution_count": 10,
     "metadata": {},
     "output_type": "execute_result"
    }
   ],
   "source": [
    "import numpy as np\n",
    "np.min(results)"
   ]
  },
  {
   "cell_type": "code",
   "execution_count": 12,
   "metadata": {},
   "outputs": [
    {
     "data": {
      "text/plain": [
       "23173"
      ]
     },
     "execution_count": 12,
     "metadata": {},
     "output_type": "execute_result"
    }
   ],
   "source": [
    "np.sum(np.array(results) > 10)"
   ]
  },
  {
   "cell_type": "code",
   "execution_count": 13,
   "metadata": {},
   "outputs": [],
   "source": [
    "sec_utt_10 = np.array(results) > 10"
   ]
  },
  {
   "cell_type": "code",
   "execution_count": 15,
   "metadata": {},
   "outputs": [
    {
     "data": {
      "text/plain": [
       "(28539,)"
      ]
     },
     "execution_count": 15,
     "metadata": {},
     "output_type": "execute_result"
    }
   ],
   "source": [
    "sec_utt_10.shape"
   ]
  },
  {
   "cell_type": "code",
   "execution_count": 16,
   "metadata": {},
   "outputs": [],
   "source": [
    "with open('dataset_file.txt', 'r') as f:\n",
    "    tr_ex_list_lines = [line for line in f.readlines()]"
   ]
  },
  {
   "cell_type": "code",
   "execution_count": 19,
   "metadata": {},
   "outputs": [],
   "source": [
    "with open('dataset_file_10sec.txt', 'w') as f:\n",
    "    for i in range(len(results)):\n",
    "        if sec_utt_10[i]:\n",
    "            f.write(tr_ex_list_lines[i])\n",
    "\n"
   ]
  },
  {
   "cell_type": "code",
   "execution_count": null,
   "metadata": {},
   "outputs": [],
   "source": []
  }
 ],
 "metadata": {
  "kernelspec": {
   "display_name": "Python 3.9.13 ('moving_source')",
   "language": "python",
   "name": "python3"
  },
  "language_info": {
   "codemirror_mode": {
    "name": "ipython",
    "version": 3
   },
   "file_extension": ".py",
   "mimetype": "text/x-python",
   "name": "python",
   "nbconvert_exporter": "python",
   "pygments_lexer": "ipython3",
   "version": "3.9.13"
  },
  "orig_nbformat": 4,
  "vscode": {
   "interpreter": {
    "hash": "5b19b528aa93bd51c7336d5aea62157de271cd7dded6857ac2564e2dc9749b07"
   }
  }
 },
 "nbformat": 4,
 "nbformat_minor": 2
}
