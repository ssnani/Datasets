{
 "cells": [
  {
   "cell_type": "code",
   "execution_count": null,
   "metadata": {},
   "outputs": [],
   "source": [
    "import torch\n",
    "import torchaudio"
   ]
  },
  {
   "cell_type": "code",
   "execution_count": null,
   "metadata": {},
   "outputs": [],
   "source": [
    "path = '/scratch/bbje/battula12/Databases/SourceTrajectories/config_dict_1.pt'"
   ]
  },
  {
   "cell_type": "code",
   "execution_count": null,
   "metadata": {},
   "outputs": [],
   "source": [
    "cfg_dict = torch.load(path)"
   ]
  },
  {
   "cell_type": "code",
   "execution_count": null,
   "metadata": {},
   "outputs": [],
   "source": [
    "cfg_dict"
   ]
  },
  {
   "cell_type": "code",
   "execution_count": null,
   "metadata": {},
   "outputs": [],
   "source": [
    "room_sz = cfg_dict['room_sz']\n",
    "src_pos = cfg_dict['src_traj_pts']"
   ]
  },
  {
   "cell_type": "code",
   "execution_count": null,
   "metadata": {},
   "outputs": [],
   "source": [
    "room_sz"
   ]
  },
  {
   "cell_type": "code",
   "execution_count": null,
   "metadata": {},
   "outputs": [],
   "source": [
    "src_pos"
   ]
  },
  {
   "cell_type": "code",
   "execution_count": null,
   "metadata": {},
   "outputs": [],
   "source": [
    "class SegSplitter:\n",
    "\n",
    "\tdef __init__(self, seg_size, seg_shift):\n",
    "\t\tself.kernel = (1,seg_size)\n",
    "\t\tself.stride = (1,seg_shift)\n",
    "\n",
    "\tdef __call__(self, x):\n",
    "\t\t#assuming x.shape ( 2,*)\n",
    "\t\tx = x.unsqueeze(dim=1).unsqueeze(dim=1) #reshape required for unfold\n",
    "\t\tx_segs = torch.nn.functional.unfold(x, self.kernel, padding=(0,0), stride=self.stride)\n",
    "\t\tx_segs = torch.permute(x_segs, [2,0,1])  #( n_segs, 2 , seg_size)\n",
    "\t\tx_segs = torch.reshape(x_segs,[x_segs.shape[0]*x_segs.shape[1], x_segs.shape[2]]) #( n_segs*2 , seg_size)\n",
    "\t\treturn x_segs  "
   ]
  },
  {
   "cell_type": "code",
   "execution_count": null,
   "metadata": {},
   "outputs": [],
   "source": [
    "x, fs = torchaudio.load('/scratch/bbje/battula12/Databases/LibriSpeech/LibriSpeech/train-clean-100/19/227/19-227-0031.flac')"
   ]
  },
  {
   "cell_type": "code",
   "execution_count": null,
   "metadata": {},
   "outputs": [],
   "source": [
    "seg_split = SegSplitter(64000,16000)"
   ]
  },
  {
   "cell_type": "code",
   "execution_count": null,
   "metadata": {},
   "outputs": [],
   "source": [
    "x_2 = torch.cat((x,x), dim=0)"
   ]
  },
  {
   "cell_type": "code",
   "execution_count": null,
   "metadata": {},
   "outputs": [],
   "source": [
    "x_2.shape"
   ]
  },
  {
   "cell_type": "code",
   "execution_count": null,
   "metadata": {},
   "outputs": [],
   "source": [
    "segs = seg_split(x_2)"
   ]
  },
  {
   "cell_type": "code",
   "execution_count": null,
   "metadata": {},
   "outputs": [],
   "source": [
    "segs.shape"
   ]
  },
  {
   "cell_type": "code",
   "execution_count": null,
   "metadata": {},
   "outputs": [],
   "source": [
    "doa = x_2\n",
    "doa_seg = seg_split(doa)\n",
    "doa_seg = doa_seg.unsqueeze(dim=1).unsqueeze(dim=1) #reshape required for unfold\n",
    "print(doa_seg.shape)\n",
    "doa_frm = torch.nn.functional.unfold(doa_seg, (1,320), padding=(0,0), stride=(1,160))\n",
    "\n",
    "doa_frm = torch.mode(doa_frm, dim=1).values\n",
    "\n",
    "print(doa_frm.shape)\n",
    "\n",
    "doa_frm = doa_frm.reshape(doa_frm.shape[0]//2, 2, doa_frm.shape[1])\n",
    "doa_frm = torch.permute(doa_frm, [0,2,1])"
   ]
  },
  {
   "cell_type": "code",
   "execution_count": null,
   "metadata": {},
   "outputs": [],
   "source": [
    "doa_frm.shape"
   ]
  },
  {
   "cell_type": "code",
   "execution_count": null,
   "metadata": {},
   "outputs": [],
   "source": [
    "len(x_2)"
   ]
  },
  {
   "cell_type": "code",
   "execution_count": null,
   "metadata": {},
   "outputs": [],
   "source": [
    "with open('dataset_file.txt', 'r') as f:\n",
    "    tr_ex_list = [line.strip().split(',')[0] for line in f.readlines()]"
   ]
  },
  {
   "cell_type": "code",
   "execution_count": null,
   "metadata": {},
   "outputs": [],
   "source": [
    "min_sig_len = 200\n",
    "for idx, ex in enumerate(tr_ex_list):\n",
    "    x, fs = torchaudio.load(ex)\n",
    "    if fs != 16000:\n",
    "        print(idx, ex)\n",
    "    sig_len = x.shape[1] // fs\n",
    "    min_sig_len = sig_len if sig_len < min_sig_len else min_sig_len"
   ]
  },
  {
   "cell_type": "code",
   "execution_count": null,
   "metadata": {},
   "outputs": [],
   "source": [
    "min_sig_len"
   ]
  },
  {
   "cell_type": "code",
   "execution_count": null,
   "metadata": {},
   "outputs": [],
   "source": [
    "import torch\n",
    "import torchaudio\n",
    "from torch.utils.data import Dataset, DataLoader\n",
    "import numpy as np\n",
    "import os\n",
    "import webrtcvad\n",
    "import soundfile\n",
    "import random\n",
    "from collections import namedtuple\n",
    "from utils import Parameter\n",
    "from locata_utils import *"
   ]
  },
  {
   "cell_type": "code",
   "execution_count": null,
   "metadata": {},
   "outputs": [],
   "source": [
    "!salloc --nodes=1 --gpus-per-node=1 --cpus-per-task=28 -A bbje-delta-gpu --time 1:0:0"
   ]
  },
  {
   "cell_type": "code",
   "execution_count": null,
   "metadata": {},
   "outputs": [],
   "source": [
    "!ssh gpua002"
   ]
  },
  {
   "cell_type": "code",
   "execution_count": null,
   "metadata": {},
   "outputs": [],
   "source": [
    "\n",
    "import gpuRIR\n",
    "#from AcousticScene import AcousticScene"
   ]
  },
  {
   "cell_type": "code",
   "execution_count": null,
   "metadata": {},
   "outputs": [],
   "source": [
    "#Experiment to see which metrics are showing sensitivity to impulse response change\n",
    "\n",
    "\n",
    "ArraySetup = namedtuple('ArraySetup', 'arrayType, orV, mic_pos, mic_orV, mic_pattern')\n",
    "array_setup_10cm_2mic = ArraySetup(arrayType='planar', \n",
    "\t\t\t\t\t\t\t\torV = np.array([0.0, 1.0, 0.0]),\n",
    "\t\t\t\t\t\t\t\tmic_pos = np.array((( 0.05,  0.000, 0.000),\n",
    "\t\t\t\t\t\t\t\t\t\t\t\t\t(-0.05,  0.000, 0.000))), \n",
    "\t\t\t\t\t\t\t\tmic_orV = np.array(((0.0, 1.0, 0.0),\n",
    "\t\t\t\t\t\t\t\t\t\t\t\t\t(0.0, 1.0, 0.0))), \n",
    "\t\t\t\t\t\t\t\tmic_pattern = 'omni'\n",
    "                        )"
   ]
  },
  {
   "cell_type": "code",
   "execution_count": null,
   "metadata": {},
   "outputs": [],
   "source": [
    "\n",
    "\n",
    "import numpy as np\n",
    "src_pos_ini = 160 \n",
    "src_pos_end = 10\n",
    "nb_points = 16\n",
    "#uniform sampling code for theta\n",
    "x = np.linspace(160,10,nb_points)\n",
    "\n",
    "#traj_pts = np.array([np.linspace(i,j,nb_points) for i,j in zip(src_pos_ini, src_pos_end)]).transpose()"
   ]
  },
  {
   "cell_type": "code",
   "execution_count": null,
   "metadata": {},
   "outputs": [],
   "source": [
    "x"
   ]
  },
  {
   "cell_type": "code",
   "execution_count": null,
   "metadata": {},
   "outputs": [],
   "source": [
    "def get_pos( r, azimuth):\n",
    "\t\tsrc_pos = np.array([r*np.cos(azimuth), r*np.sin(azimuth), 0.0])\n",
    "\t\treturn src_pos\n",
    "v = [get_pos(1,np.deg2rad(i)) for i in x]"
   ]
  },
  {
   "cell_type": "code",
   "execution_count": null,
   "metadata": {},
   "outputs": [],
   "source": [
    "np.array(v).shape\n"
   ]
  },
  {
   "cell_type": "code",
   "execution_count": null,
   "metadata": {},
   "outputs": [],
   "source": [
    "x.shape"
   ]
  },
  {
   "cell_type": "code",
   "execution_count": 2,
   "metadata": {},
   "outputs": [],
   "source": [
    "import matplotlib.pyplot as plt\n",
    "from matplotlib import animation\n",
    "from mpl_toolkits.mplot3d import Axes3D\n",
    "\n",
    "def plotScene(room_sz, mic_pos, traj_pts, noise_pos, T60, SNR, view='3D'):\n",
    "\t\t\"\"\" Plots the source trajectory and the microphones within the room\n",
    "\t\t\"\"\"\n",
    "\t\tassert view in ['3D', 'XYZ', 'XY', 'XZ', 'YZ']\n",
    "\n",
    "\t\tfig = plt.figure()\n",
    "\n",
    "\t\tif view == '3D' or view == 'XYZ':\n",
    "\t\t\tax = Axes3D(fig)\n",
    "\t\t\tax.set_xlim3d(0, room_sz[0])\n",
    "\t\t\tax.set_ylim3d(0, room_sz[1])\n",
    "\t\t\tax.set_zlim3d(0, room_sz[2])\n",
    "\n",
    "\t\t\tax.scatter(traj_pts[:,0], traj_pts[:,1], traj_pts[:,2])\n",
    "\t\t\tax.scatter(mic_pos[:,0], mic_pos[:,1], mic_pos[:,2])\n",
    "\t\t\tax.text(traj_pts[0,0], traj_pts[0,1], traj_pts[0,2], 'start')\n",
    "\n",
    "\t\t\tax.set_title('$T_{60}$' + ' = {:.3f}s, SNR = {:.1f}dB'.format(T60, SNR))\n",
    "\t\t\tax.set_xlabel('x [m]')\n",
    "\t\t\tax.set_ylabel('y [m]')\n",
    "\t\t\tax.set_zlabel('z [m]')\n",
    "\n",
    "\t\telse:\n",
    "\t\t\tax = fig.add_subplot(111)\n",
    "\t\t\tplt.gca().set_aspect('equal', adjustable='box')\n",
    "\n",
    "\t\t\tif view == 'XY':\n",
    "\t\t\t\tax.set_xlim(0, room_sz[0])\n",
    "\t\t\t\tax.set_ylim(0, room_sz[1])\n",
    "\t\t\t\tax.scatter(traj_pts[:,0], traj_pts[:,1])\n",
    "\t\t\t\tax.scatter(noise_pos[:,0], noise_pos[:,1])\n",
    "\t\t\t\tax.scatter(mic_pos[:,0], mic_pos[:,1])\n",
    "\t\t\t\tax.text(traj_pts[0,0], traj_pts[0,1], 'start')\n",
    "\t\t\t\tax.legend(['Source trajectory', 'Noise pos', 'Microphone array'])\n",
    "\t\t\t\tax.set_xlabel('x [m]')\n",
    "\t\t\t\tax.set_ylabel('y [m]')\n",
    "\t\t\telif view == 'XZ':\n",
    "\t\t\t\tax.set_xlim(0, room_sz[0])\n",
    "\t\t\t\tax.set_ylim(0, room_sz[2])\n",
    "\t\t\t\tax.scatter(traj_pts[:,0], traj_pts[:,2])\n",
    "\t\t\t\tax.scatter(mic_pos[:,0], mic_pos[:,2])\n",
    "\t\t\t\tax.text(traj_pts[0,0], traj_pts[0,2], 'start')\n",
    "\t\t\t\tax.legend(['Source trajectory', 'Microphone array'])\n",
    "\t\t\t\tax.set_xlabel('x [m]')\n",
    "\t\t\t\tax.set_ylabel('z [m]')\n",
    "\t\t\telif view == 'YZ':\n",
    "\t\t\t\tax.set_xlim(0, room_sz[1])\n",
    "\t\t\t\tax.set_ylim(0, room_sz[2])\n",
    "\t\t\t\tax.scatter(traj_pts[:,1], traj_pts[:,2])\n",
    "\t\t\t\tax.scatter(mic_pos[:,1], mic_pos[:,2])\n",
    "\t\t\t\tax.text(traj_pts[0,1], traj_pts[0,2], 'start')\n",
    "\t\t\t\tax.legend(['Source trajectory', 'Microphone array'])\n",
    "\t\t\t\tax.set_xlabel('y [m]')\n",
    "\t\t\t\tax.set_ylabel('z [m]')\n",
    "\n",
    "\t\tplt.show()"
   ]
  },
  {
   "cell_type": "code",
   "execution_count": 14,
   "metadata": {},
   "outputs": [
    {
     "ename": "",
     "evalue": "",
     "output_type": "error",
     "traceback": [
      "\u001b[1;31mCanceled future for execute_request message before replies were done"
     ]
    },
    {
     "ename": "",
     "evalue": "",
     "output_type": "error",
     "traceback": [
      "\u001b[1;31mThe Kernel crashed while executing code in the the current cell or a previous cell. Please review the code in the cell(s) to identify a possible cause of the failure. Click <a href='https://aka.ms/vscodeJupyterKernelCrash'>here</a> for more info. View Jupyter <a href='command:jupyter.viewOutput'>log</a> for further details."
     ]
    }
   ],
   "source": [
    "from TestDataset import *\n",
    "# Named tuple with the characteristics of a microphone array and definitions of the LOCATA arrays:\n",
    "ArraySetup = namedtuple('ArraySetup', 'arrayType, orV, mic_pos, mic_orV, mic_pattern')\n",
    "\n",
    "array_setup_10cm_2mic = ArraySetup(arrayType='planar', \n",
    "                                    orV = np.array([0.0, 1.0, 0.0]),\n",
    "                                    mic_pos = np.array((( 0.05,  0.000, 0.000),\n",
    "                                                        (-0.05,  0.000, 0.000))), \n",
    "                                    mic_orV = np.array(((0.0, 1.0, 0.0),\n",
    "                                                        (0.0, 1.0, 0.0))), \n",
    "                                    mic_pattern = 'omni'\n",
    "                                )\n",
    "test_config = TestConfig(array_setup=array_setup_10cm_2mic, test_snr=5, test_t60=0.2, static_prob=0.0, src_mic_dist = 1.0, noi_mic_dist = 1.0, non_linear_prob=0.0, nb_points=16, same_plane=True)\n",
    "\n",
    "retry_flag = True\n",
    "retry_count = 0\n",
    "while(retry_flag):\n",
    "    try:\n",
    "        static_config_dict = test_config._create_acoustic_scene_config(\"Static\")\n",
    "        circular_motion_config_dict = test_config._create_acoustic_scene_config(\"CircularMotion\", \"noi_moving\")\n",
    "        retry_flag = False\n",
    "    except AssertionError:\n",
    "        retry_flag = True\n",
    "        retry_count += 1\n",
    "        \n",
    "\n",
    "\n"
   ]
  },
  {
   "cell_type": "code",
   "execution_count": null,
   "metadata": {},
   "outputs": [],
   "source": [
    "config_dict = circular_motion_config_dict\n",
    "room_sz = config_dict['room_sz']\n",
    "mic_pos = config_dict['mic_pos']\n",
    "traj_pts= config_dict['src_traj_pts']\n",
    "noise_pos= config_dict['noise_pos']\n",
    "T60= config_dict['t60']\n",
    "SNR= config_dict['snr']\n",
    "\n",
    "plotScene(room_sz, mic_pos, traj_pts, noise_pos, T60, SNR, view='XY')"
   ]
  },
  {
   "cell_type": "code",
   "execution_count": null,
   "metadata": {},
   "outputs": [],
   "source": [
    "config_dict"
   ]
  },
  {
   "cell_type": "code",
   "execution_count": null,
   "metadata": {},
   "outputs": [],
   "source": [
    "np.linalg.norm(config_dict['src_traj_pts'][0] - config_dict['array_pos'])"
   ]
  },
  {
   "cell_type": "code",
   "execution_count": null,
   "metadata": {},
   "outputs": [],
   "source": [
    "np.linalg.norm(config_dict['noise_pos'][0] - config_dict['array_pos'])"
   ]
  },
  {
   "cell_type": "code",
   "execution_count": null,
   "metadata": {},
   "outputs": [],
   "source": [
    "retry_count"
   ]
  },
  {
   "cell_type": "code",
   "execution_count": 18,
   "metadata": {},
   "outputs": [
    {
     "name": "stdout",
     "output_type": "stream",
     "text": [
      "[221. 231. 241. 251. 261. 271. 281. 291. 302. 312. 322. 332. 342. 352.\n",
      " 362. 372.]\n"
     ]
    }
   ],
   "source": [
    "from controlled_config import *\n",
    "# Named tuple with the characteristics of a microphone array and definitions of the LOCATA arrays:\n",
    "ArraySetup = namedtuple('ArraySetup', 'arrayType, orV, mic_pos, mic_orV, mic_pattern')\n",
    "\n",
    "array_setup_10cm_2mic = ArraySetup(arrayType='planar', \n",
    "                                    orV = np.array([0.0, 0.0, 1.0]),\n",
    "                                    mic_pos = np.array((( 0.05,  0.000, 0.000),\n",
    "                                                        (-0.05,  0.000, 0.000))), \n",
    "                                    mic_orV = np.array(((0.0, 0.0, 1.0),\n",
    "                                                        (0.0, 0.0, 1.0))), \n",
    "                                    mic_pattern = 'omni'\n",
    "                                )\n",
    "test_config = ControlledConfig(array_setup=array_setup_10cm_2mic, test_snr=5, test_t60=0.2, static_prob=0.0, src_mic_dist = 1.0, noi_mic_dist = 1.0, non_linear_prob=0.0, nb_points=16, same_plane=True)\n",
    "\n",
    "retry_flag = True\n",
    "retry_count = 0\n",
    "while(retry_flag):\n",
    "    try:\n",
    "        static_config_dict = test_config._create_acoustic_scene_config(\"Static\")\n",
    "        circular_motion_config_dict = test_config._create_acoustic_scene_config(\"CircularMotion\", \"source_moving\")\n",
    "        retry_flag = False\n",
    "    except AssertionError:\n",
    "        retry_flag = True\n",
    "        retry_count += 1\n",
    "        \n",
    "\n",
    "\n"
   ]
  },
  {
   "cell_type": "code",
   "execution_count": 19,
   "metadata": {},
   "outputs": [
    {
     "data": {
      "image/png": "[encoded data removed]",
      "text/plain": [
       "<Figure size 640x480 with 1 Axes>"
      ]
     },
     "metadata": {},
     "output_type": "display_data"
    }
   ],
   "source": [
    "config_dict = circular_motion_config_dict\n",
    "room_sz = config_dict['room_sz']\n",
    "array_pos = config_dict['array_pos']\n",
    "mic_pos = config_dict['mic_pos']\n",
    "traj_pts= config_dict['src_traj_pts']\n",
    "noise_pos= config_dict['noise_pos']\n",
    "T60= config_dict['t60']\n",
    "SNR= config_dict['snr']\n",
    "\n",
    "\n",
    "plotScene(room_sz, mic_pos, traj_pts, noise_pos, T60, SNR, view='XY')"
   ]
  },
  {
   "cell_type": "code",
   "execution_count": 20,
   "metadata": {},
   "outputs": [],
   "source": [
    "from locata_utils import cart2sph\n",
    "\n",
    "q = np.degrees(cart2sph(traj_pts - array_pos)[:,2])\n",
    "q2 = np.where(q<0, 360+q, q)"
   ]
  },
  {
   "cell_type": "code",
   "execution_count": 21,
   "metadata": {},
   "outputs": [
    {
     "data": {
      "text/plain": [
       "array([221., 231., 241., 251., 261., 271., 281., 291., 302., 312., 322.,\n",
       "       332., 342., 352.,   2.,  12.])"
      ]
     },
     "execution_count": 21,
     "metadata": {},
     "output_type": "execute_result"
    }
   ],
   "source": [
    "q2"
   ]
  },
  {
   "cell_type": "code",
   "execution_count": 12,
   "metadata": {},
   "outputs": [
    {
     "data": {
      "text/plain": [
       "192"
      ]
     },
     "execution_count": 12,
     "metadata": {},
     "output_type": "execute_result"
    }
   ],
   "source": [
    "360-168"
   ]
  },
  {
   "cell_type": "code",
   "execution_count": 7,
   "metadata": {},
   "outputs": [],
   "source": [
    "sph = "
   ]
  },
  {
   "cell_type": "code",
   "execution_count": 8,
   "metadata": {},
   "outputs": [
    {
     "data": {
      "text/plain": [
       "(16, 3)"
      ]
     },
     "execution_count": 8,
     "metadata": {},
     "output_type": "execute_result"
    }
   ],
   "source": [
    "sph.shape"
   ]
  },
  {
   "cell_type": "code",
   "execution_count": 9,
   "metadata": {},
   "outputs": [
    {
     "data": {
      "text/plain": [
       "5.970330202966447"
      ]
     },
     "execution_count": 9,
     "metadata": {},
     "output_type": "execute_result"
    }
   ],
   "source": [
    "sph[0,0]"
   ]
  },
  {
   "cell_type": "code",
   "execution_count": 13,
   "metadata": {},
   "outputs": [
    {
     "name": "stdout",
     "output_type": "stream",
     "text": [
      "Dataset Size: 1\n",
      "sig: torch.Size([1, 80000]), torch.float64, cpu\n"
     ]
    }
   ],
   "source": [
    "# WSJ signal with vad\n",
    "\n",
    "from WSJ import *\n",
    "path = '/scratch/bbje/battula12/Databases/wsj/tr_05_clean/'\n",
    "T = 5\n",
    "dataset = WSJSpeechUttDataset(path, T, return_vad=True, size=1)\n",
    "print(f\"Dataset Size: {len(dataset)}\")\n",
    "#breakpoint()\n",
    "\n",
    "train_loader = DataLoader(dataset, batch_size = 10, num_workers=0)\n",
    "\n",
    "for _batch_idx, val in enumerate(train_loader):\n",
    "    print(f\"sig: {val[0].shape}, {val[0].dtype}, {val[0].device}\")\n",
    "    \n",
    "\n"
   ]
  },
  {
   "cell_type": "code",
   "execution_count": 14,
   "metadata": {},
   "outputs": [
    {
     "data": {
      "text/plain": [
       "[<matplotlib.lines.Line2D at 0x7f818814fa60>]"
      ]
     },
     "execution_count": 14,
     "metadata": {},
     "output_type": "execute_result"
    },
    {
     "data": {
      "image/png": "[encoded data removed]",
      "text/plain": [
       "<Figure size 640x480 with 1 Axes>"
      ]
     },
     "metadata": {},
     "output_type": "display_data"
    }
   ],
   "source": [
    "speech, vad = dataset[0]\n",
    "import matplotlib.pyplot as plt\n",
    "plt.plot(speech)\n",
    "plt.plot(vad)"
   ]
  },
  {
   "cell_type": "code",
   "execution_count": null,
   "metadata": {},
   "outputs": [],
   "source": []
  }
 ],
 "metadata": {
  "kernelspec": {
   "display_name": "Python 3.9.13 ('moving_source')",
   "language": "python",
   "name": "python3"
  },
  "language_info": {
   "codemirror_mode": {
    "name": "ipython",
    "version": 3
   },
   "file_extension": ".py",
   "mimetype": "text/x-python",
   "name": "python",
   "nbconvert_exporter": "python",
   "pygments_lexer": "ipython3",
   "version": "3.9.13"
  },
  "orig_nbformat": 4,
  "vscode": {
   "interpreter": {
    "hash": "5b19b528aa93bd51c7336d5aea62157de271cd7dded6857ac2564e2dc9749b07"
   }
  }
 },
 "nbformat": 4,
 "nbformat_minor": 2
}
