{
 "cells": [
  {
   "cell_type": "code",
   "execution_count": null,
   "metadata": {},
   "outputs": [],
   "source": [
    "import torch\n",
    "import torchaudio"
   ]
  },
  {
   "cell_type": "code",
   "execution_count": null,
   "metadata": {},
   "outputs": [],
   "source": [
    "path = '/scratch/bbje/battula12/Databases/SourceTrajectories/config_dict_1.pt'"
   ]
  },
  {
   "cell_type": "code",
   "execution_count": null,
   "metadata": {},
   "outputs": [],
   "source": [
    "cfg_dict = torch.load(path)"
   ]
  },
  {
   "cell_type": "code",
   "execution_count": null,
   "metadata": {},
   "outputs": [],
   "source": [
    "cfg_dict"
   ]
  },
  {
   "cell_type": "code",
   "execution_count": null,
   "metadata": {},
   "outputs": [],
   "source": [
    "room_sz = cfg_dict['room_sz']\n",
    "src_pos = cfg_dict['src_traj_pts']"
   ]
  },
  {
   "cell_type": "code",
   "execution_count": null,
   "metadata": {},
   "outputs": [],
   "source": [
    "room_sz"
   ]
  },
  {
   "cell_type": "code",
   "execution_count": null,
   "metadata": {},
   "outputs": [],
   "source": [
    "src_pos"
   ]
  },
  {
   "cell_type": "code",
   "execution_count": null,
   "metadata": {},
   "outputs": [],
   "source": [
    "class SegSplitter:\n",
    "\n",
    "\tdef __init__(self, seg_size, seg_shift):\n",
    "\t\tself.kernel = (1,seg_size)\n",
    "\t\tself.stride = (1,seg_shift)\n",
    "\n",
    "\tdef __call__(self, x):\n",
    "\t\t#assuming x.shape ( 2,*)\n",
    "\t\tx = x.unsqueeze(dim=1).unsqueeze(dim=1) #reshape required for unfold\n",
    "\t\tx_segs = torch.nn.functional.unfold(x, self.kernel, padding=(0,0), stride=self.stride)\n",
    "\t\tx_segs = torch.permute(x_segs, [2,0,1])  #( n_segs, 2 , seg_size)\n",
    "\t\tx_segs = torch.reshape(x_segs,[x_segs.shape[0]*x_segs.shape[1], x_segs.shape[2]]) #( n_segs*2 , seg_size)\n",
    "\t\treturn x_segs  "
   ]
  },
  {
   "cell_type": "code",
   "execution_count": null,
   "metadata": {},
   "outputs": [],
   "source": [
    "x, fs = torchaudio.load('/scratch/bbje/battula12/Databases/LibriSpeech/LibriSpeech/train-clean-100/19/227/19-227-0031.flac')"
   ]
  },
  {
   "cell_type": "code",
   "execution_count": null,
   "metadata": {},
   "outputs": [],
   "source": [
    "seg_split = SegSplitter(64000,16000)"
   ]
  },
  {
   "cell_type": "code",
   "execution_count": null,
   "metadata": {},
   "outputs": [],
   "source": [
    "x_2 = torch.cat((x,x), dim=0)"
   ]
  },
  {
   "cell_type": "code",
   "execution_count": null,
   "metadata": {},
   "outputs": [],
   "source": [
    "x_2.shape"
   ]
  },
  {
   "cell_type": "code",
   "execution_count": null,
   "metadata": {},
   "outputs": [],
   "source": [
    "segs = seg_split(x_2)"
   ]
  },
  {
   "cell_type": "code",
   "execution_count": null,
   "metadata": {},
   "outputs": [],
   "source": [
    "segs.shape"
   ]
  },
  {
   "cell_type": "code",
   "execution_count": null,
   "metadata": {},
   "outputs": [],
   "source": [
    "doa = x_2\n",
    "doa_seg = seg_split(doa)\n",
    "doa_seg = doa_seg.unsqueeze(dim=1).unsqueeze(dim=1) #reshape required for unfold\n",
    "print(doa_seg.shape)\n",
    "doa_frm = torch.nn.functional.unfold(doa_seg, (1,320), padding=(0,0), stride=(1,160))\n",
    "\n",
    "doa_frm = torch.mode(doa_frm, dim=1).values\n",
    "\n",
    "print(doa_frm.shape)\n",
    "\n",
    "doa_frm = doa_frm.reshape(doa_frm.shape[0]//2, 2, doa_frm.shape[1])\n",
    "doa_frm = torch.permute(doa_frm, [0,2,1])"
   ]
  },
  {
   "cell_type": "code",
   "execution_count": null,
   "metadata": {},
   "outputs": [],
   "source": [
    "doa_frm.shape"
   ]
  },
  {
   "cell_type": "code",
   "execution_count": null,
   "metadata": {},
   "outputs": [],
   "source": [
    "len(x_2)"
   ]
  },
  {
   "cell_type": "code",
   "execution_count": null,
   "metadata": {},
   "outputs": [],
   "source": [
    "with open('dataset_file.txt', 'r') as f:\n",
    "    tr_ex_list = [line.strip().split(',')[0] for line in f.readlines()]"
   ]
  },
  {
   "cell_type": "code",
   "execution_count": null,
   "metadata": {},
   "outputs": [],
   "source": [
    "min_sig_len = 200\n",
    "for idx, ex in enumerate(tr_ex_list):\n",
    "    x, fs = torchaudio.load(ex)\n",
    "    if fs != 16000:\n",
    "        print(idx, ex)\n",
    "    sig_len = x.shape[1] // fs\n",
    "    min_sig_len = sig_len if sig_len < min_sig_len else min_sig_len"
   ]
  },
  {
   "cell_type": "code",
   "execution_count": null,
   "metadata": {},
   "outputs": [],
   "source": [
    "min_sig_len"
   ]
  },
  {
   "cell_type": "code",
   "execution_count": null,
   "metadata": {},
   "outputs": [],
   "source": [
    "import torch\n",
    "import torchaudio\n",
    "from torch.utils.data import Dataset, DataLoader\n",
    "import numpy as np\n",
    "import os\n",
    "import webrtcvad\n",
    "import soundfile\n",
    "import random\n",
    "from collections import namedtuple\n",
    "from utils import Parameter\n",
    "from locata_utils import *"
   ]
  },
  {
   "cell_type": "code",
   "execution_count": null,
   "metadata": {},
   "outputs": [],
   "source": [
    "!salloc --nodes=1 --gpus-per-node=1 --cpus-per-task=28 -A bbje-delta-gpu --time 1:0:0"
   ]
  },
  {
   "cell_type": "code",
   "execution_count": null,
   "metadata": {},
   "outputs": [],
   "source": [
    "!ssh gpua002"
   ]
  },
  {
   "cell_type": "code",
   "execution_count": null,
   "metadata": {},
   "outputs": [],
   "source": [
    "\n",
    "import gpuRIR\n",
    "#from AcousticScene import AcousticScene"
   ]
  },
  {
   "cell_type": "code",
   "execution_count": null,
   "metadata": {},
   "outputs": [],
   "source": [
    "#Experiment to see which metrics are showing sensitivity to impulse response change\n",
    "\n",
    "\n",
    "ArraySetup = namedtuple('ArraySetup', 'arrayType, orV, mic_pos, mic_orV, mic_pattern')\n",
    "array_setup_10cm_2mic = ArraySetup(arrayType='planar', \n",
    "\t\t\t\t\t\t\t\torV = np.array([0.0, 1.0, 0.0]),\n",
    "\t\t\t\t\t\t\t\tmic_pos = np.array((( 0.05,  0.000, 0.000),\n",
    "\t\t\t\t\t\t\t\t\t\t\t\t\t(-0.05,  0.000, 0.000))), \n",
    "\t\t\t\t\t\t\t\tmic_orV = np.array(((0.0, 1.0, 0.0),\n",
    "\t\t\t\t\t\t\t\t\t\t\t\t\t(0.0, 1.0, 0.0))), \n",
    "\t\t\t\t\t\t\t\tmic_pattern = 'omni'\n",
    "                        )"
   ]
  },
  {
   "cell_type": "code",
   "execution_count": null,
   "metadata": {},
   "outputs": [],
   "source": [
    "\n",
    "\n",
    "import numpy as np\n",
    "src_pos_ini = 160 \n",
    "src_pos_end = 10\n",
    "nb_points = 16\n",
    "#uniform sampling code for theta\n",
    "x = np.linspace(160,10,nb_points)\n",
    "\n",
    "#traj_pts = np.array([np.linspace(i,j,nb_points) for i,j in zip(src_pos_ini, src_pos_end)]).transpose()"
   ]
  },
  {
   "cell_type": "code",
   "execution_count": null,
   "metadata": {},
   "outputs": [],
   "source": [
    "x"
   ]
  },
  {
   "cell_type": "code",
   "execution_count": null,
   "metadata": {},
   "outputs": [],
   "source": [
    "def get_pos( r, azimuth):\n",
    "\t\tsrc_pos = np.array([r*np.cos(azimuth), r*np.sin(azimuth), 0.0])\n",
    "\t\treturn src_pos\n",
    "v = [get_pos(1,np.deg2rad(i)) for i in x]"
   ]
  },
  {
   "cell_type": "code",
   "execution_count": null,
   "metadata": {},
   "outputs": [],
   "source": [
    "np.array(v).shape\n"
   ]
  },
  {
   "cell_type": "code",
   "execution_count": null,
   "metadata": {},
   "outputs": [],
   "source": [
    "x.shape"
   ]
  },
  {
   "cell_type": "code",
   "execution_count": 1,
   "metadata": {},
   "outputs": [],
   "source": [
    "import matplotlib.pyplot as plt\n",
    "from matplotlib import animation\n",
    "from mpl_toolkits.mplot3d import Axes3D\n",
    "\n",
    "def plotScene(room_sz, mic_pos, traj_pts, noise_pos, T60, SNR, view='3D'):\n",
    "\t\t\"\"\" Plots the source trajectory and the microphones within the room\n",
    "\t\t\"\"\"\n",
    "\t\tassert view in ['3D', 'XYZ', 'XY', 'XZ', 'YZ']\n",
    "\n",
    "\t\tfig = plt.figure()\n",
    "\n",
    "\t\tif view == '3D' or view == 'XYZ':\n",
    "\t\t\tax = Axes3D(fig)\n",
    "\t\t\tax.set_xlim3d(0, room_sz[0])\n",
    "\t\t\tax.set_ylim3d(0, room_sz[1])\n",
    "\t\t\tax.set_zlim3d(0, room_sz[2])\n",
    "\n",
    "\t\t\tax.scatter(traj_pts[:,0], traj_pts[:,1], traj_pts[:,2])\n",
    "\t\t\tax.scatter(mic_pos[:,0], mic_pos[:,1], mic_pos[:,2])\n",
    "\t\t\tax.text(traj_pts[0,0], traj_pts[0,1], traj_pts[0,2], 'start')\n",
    "\n",
    "\t\t\tax.set_title('$T_{60}$' + ' = {:.3f}s, SNR = {:.1f}dB'.format(T60, SNR))\n",
    "\t\t\tax.set_xlabel('x [m]')\n",
    "\t\t\tax.set_ylabel('y [m]')\n",
    "\t\t\tax.set_zlabel('z [m]')\n",
    "\n",
    "\t\telse:\n",
    "\t\t\tax = fig.add_subplot(111)\n",
    "\t\t\tplt.gca().set_aspect('equal', adjustable='box')\n",
    "\n",
    "\t\t\tif view == 'XY':\n",
    "\t\t\t\tax.set_xlim(0, room_sz[0])\n",
    "\t\t\t\tax.set_ylim(0, room_sz[1])\n",
    "\t\t\t\tax.scatter(traj_pts[:,0], traj_pts[:,1])\n",
    "\t\t\t\tax.scatter(noise_pos[:,0], noise_pos[:,1])\n",
    "\t\t\t\tax.scatter(mic_pos[:,0], mic_pos[:,1])\n",
    "\t\t\t\tax.text(traj_pts[0,0], traj_pts[0,1], 'start')\n",
    "\t\t\t\tax.legend(['Source trajectory', 'Noise pos', 'Microphone array'])\n",
    "\t\t\t\tax.set_xlabel('x [m]')\n",
    "\t\t\t\tax.set_ylabel('y [m]')\n",
    "\t\t\telif view == 'XZ':\n",
    "\t\t\t\tax.set_xlim(0, room_sz[0])\n",
    "\t\t\t\tax.set_ylim(0, room_sz[2])\n",
    "\t\t\t\tax.scatter(traj_pts[:,0], traj_pts[:,2])\n",
    "\t\t\t\tax.scatter(mic_pos[:,0], mic_pos[:,2])\n",
    "\t\t\t\tax.text(traj_pts[0,0], traj_pts[0,2], 'start')\n",
    "\t\t\t\tax.legend(['Source trajectory', 'Microphone array'])\n",
    "\t\t\t\tax.set_xlabel('x [m]')\n",
    "\t\t\t\tax.set_ylabel('z [m]')\n",
    "\t\t\telif view == 'YZ':\n",
    "\t\t\t\tax.set_xlim(0, room_sz[1])\n",
    "\t\t\t\tax.set_ylim(0, room_sz[2])\n",
    "\t\t\t\tax.scatter(traj_pts[:,1], traj_pts[:,2])\n",
    "\t\t\t\tax.scatter(mic_pos[:,1], mic_pos[:,2])\n",
    "\t\t\t\tax.text(traj_pts[0,1], traj_pts[0,2], 'start')\n",
    "\t\t\t\tax.legend(['Source trajectory', 'Microphone array'])\n",
    "\t\t\t\tax.set_xlabel('y [m]')\n",
    "\t\t\t\tax.set_ylabel('z [m]')\n",
    "\n",
    "\t\tplt.show()"
   ]
  },
  {
   "cell_type": "code",
   "execution_count": 4,
   "metadata": {},
   "outputs": [],
   "source": [
    "from TestDataset import *\n",
    "# Named tuple with the characteristics of a microphone array and definitions of the LOCATA arrays:\n",
    "ArraySetup = namedtuple('ArraySetup', 'arrayType, orV, mic_pos, mic_orV, mic_pattern')\n",
    "\n",
    "array_setup_10cm_2mic = ArraySetup(arrayType='planar', \n",
    "                                    orV = np.array([0.0, 1.0, 0.0]),\n",
    "                                    mic_pos = np.array((( 0.05,  0.000, 0.000),\n",
    "                                                        (-0.05,  0.000, 0.000))), \n",
    "                                    mic_orV = np.array(((0.0, 1.0, 0.0),\n",
    "                                                        (0.0, 1.0, 0.0))), \n",
    "                                    mic_pattern = 'omni'\n",
    "                                )\n",
    "test_config = TestConfig(array_setup=array_setup_10cm_2mic, test_snr=5, test_t60=0.2, static_prob=0.0, src_mic_dist = 1.0, noi_mic_dist = 1.0, non_linear_prob=0.0, nb_points=16, same_plane=True)\n",
    "\n",
    "retry_flag = True\n",
    "retry_count = 0\n",
    "while(retry_flag):\n",
    "    try:\n",
    "        static_config_dict = test_config._create_acoustic_scene_config(\"Static\")\n",
    "        circular_motion_config_dict = test_config._create_acoustic_scene_config(\"CircularMotion\", \"noi_moving\")\n",
    "        retry_flag = False\n",
    "    except AssertionError:\n",
    "        retry_flag = True\n",
    "        retry_count += 1\n",
    "        \n",
    "\n",
    "\n"
   ]
  },
  {
   "cell_type": "code",
   "execution_count": 5,
   "metadata": {},
   "outputs": [
    {
     "data": {
      "image/png": "[encoded data removed]",
      "text/plain": [
       "<Figure size 640x480 with 1 Axes>"
      ]
     },
     "metadata": {},
     "output_type": "display_data"
    }
   ],
   "source": [
    "config_dict = circular_motion_config_dict\n",
    "room_sz = config_dict['room_sz']\n",
    "mic_pos = config_dict['mic_pos']\n",
    "traj_pts= config_dict['src_traj_pts']\n",
    "noise_pos= config_dict['noise_pos']\n",
    "T60= config_dict['t60']\n",
    "SNR= config_dict['snr']\n",
    "\n",
    "plotScene(room_sz, mic_pos, traj_pts, noise_pos, T60, SNR, view='XY')"
   ]
  },
  {
   "cell_type": "code",
   "execution_count": 23,
   "metadata": {},
   "outputs": [
    {
     "data": {
      "text/plain": [
       "{'snr': array(5),\n",
       " 't60': array(0.2),\n",
       " 'room_sz': array([8.63514542, 5.68329616, 4.20354141]),\n",
       " 'abs_weights': array([0.54889566, 0.91408356, 0.94498516, 0.67013599, 0.87744786,\n",
       "        0.5530619 ]),\n",
       " 'mic_pos': array([[5.02361438, 3.21121491, 0.95270216],\n",
       "        [4.92361438, 3.21121491, 0.95270216]]),\n",
       " 'array_pos': array([4.97361438, 3.21121491, 0.95270216]),\n",
       " 'src_traj_pts': array([[5.0016422 , 0.21134584, 0.95270216],\n",
       "        [5.17711235, 0.21812478, 0.95270216],\n",
       "        [5.35188527, 0.23515861, 0.95270216],\n",
       "        [5.52536216, 0.26238898, 0.95270216],\n",
       "        [5.69694866, 0.2997226 , 0.95270216],\n",
       "        [5.86605688, 0.34703154, 0.95270216],\n",
       "        [6.03210742, 0.40415373, 0.95270216],\n",
       "        [6.19453136, 0.47089345, 0.95270216],\n",
       "        [6.3527722 , 0.54702203, 0.95270216],\n",
       "        [6.50628778, 0.63227865, 0.95270216],\n",
       "        [6.65455213, 0.7263712 , 0.95270216],\n",
       "        [6.79705727, 0.8289773 , 0.95270216],\n",
       "        [6.93331494, 0.93974541, 0.95270216],\n",
       "        [7.0628583 , 1.058296  , 0.95270216],\n",
       "        [7.18524351, 1.18422291, 0.95270216],\n",
       "        [7.30005125, 1.31709468, 0.95270216]]),\n",
       " 'noise_pos': array([[5.8880602 , 2.80650657, 0.95270216]]),\n",
       " 'nb_points': 16}"
      ]
     },
     "execution_count": 23,
     "metadata": {},
     "output_type": "execute_result"
    }
   ],
   "source": [
    "config_dict"
   ]
  },
  {
   "cell_type": "code",
   "execution_count": 6,
   "metadata": {},
   "outputs": [
    {
     "data": {
      "text/plain": [
       "0.9999999999999999"
      ]
     },
     "execution_count": 6,
     "metadata": {},
     "output_type": "execute_result"
    }
   ],
   "source": [
    "np.linalg.norm(config_dict['src_traj_pts'][0] - config_dict['array_pos'])"
   ]
  },
  {
   "cell_type": "code",
   "execution_count": 8,
   "metadata": {},
   "outputs": [
    {
     "data": {
      "text/plain": [
       "1.0"
      ]
     },
     "execution_count": 8,
     "metadata": {},
     "output_type": "execute_result"
    }
   ],
   "source": [
    "np.linalg.norm(config_dict['noise_pos'][0] - config_dict['array_pos'])"
   ]
  },
  {
   "cell_type": "code",
   "execution_count": 29,
   "metadata": {},
   "outputs": [
    {
     "data": {
      "text/plain": [
       "14"
      ]
     },
     "execution_count": 29,
     "metadata": {},
     "output_type": "execute_result"
    }
   ],
   "source": [
    "retry_count"
   ]
  },
  {
   "cell_type": "code",
   "execution_count": null,
   "metadata": {},
   "outputs": [],
   "source": []
  }
 ],
 "metadata": {
  "kernelspec": {
   "display_name": "Python 3.9.13 ('moving_source')",
   "language": "python",
   "name": "python3"
  },
  "language_info": {
   "codemirror_mode": {
    "name": "ipython",
    "version": 3
   },
   "file_extension": ".py",
   "mimetype": "text/x-python",
   "name": "python",
   "nbconvert_exporter": "python",
   "pygments_lexer": "ipython3",
   "version": "3.9.13"
  },
  "orig_nbformat": 4,
  "vscode": {
   "interpreter": {
    "hash": "5b19b528aa93bd51c7336d5aea62157de271cd7dded6857ac2564e2dc9749b07"
   }
  }
 },
 "nbformat": 4,
 "nbformat_minor": 2
}
